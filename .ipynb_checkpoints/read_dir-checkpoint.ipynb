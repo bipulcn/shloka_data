{
 "cells": [
  {
   "cell_type": "code",
   "execution_count": 1,
   "id": "a1d12828-816d-4f91-b5f4-993566e04ca0",
   "metadata": {
    "tags": []
   },
   "outputs": [],
   "source": [
    "import numpy as np\n",
    "import pandas as pd\n",
    "from googletrans import Translator\n",
    "import asyncio\n",
    "import pandas as pd\n",
    "from IPython.display import display, HTML"
   ]
  },
  {
   "cell_type": "code",
   "execution_count": 2,
   "id": "d88726c2-6863-4363-a8ec-c321054d7eaf",
   "metadata": {
    "tags": []
   },
   "outputs": [
    {
     "data": {
      "text/html": [
       "<div>\n",
       "<style scoped>\n",
       "    .dataframe tbody tr th:only-of-type {\n",
       "        vertical-align: middle;\n",
       "    }\n",
       "\n",
       "    .dataframe tbody tr th {\n",
       "        vertical-align: top;\n",
       "    }\n",
       "\n",
       "    .dataframe thead th {\n",
       "        text-align: right;\n",
       "    }\n",
       "</style>\n",
       "<table border=\"1\" class=\"dataframe\">\n",
       "  <thead>\n",
       "    <tr style=\"text-align: right;\">\n",
       "      <th></th>\n",
       "      <th>Sloka</th>\n",
       "      <th>Class</th>\n",
       "    </tr>\n",
       "  </thead>\n",
       "  <tbody>\n",
       "    <tr>\n",
       "      <th>0</th>\n",
       "      <td>यस्मात् त्रस्यन्ति भूतानि मृगव्याधान्मृगा इव। ...</td>\n",
       "      <td>Vidur Niti Slokas</td>\n",
       "    </tr>\n",
       "    <tr>\n",
       "      <th>1</th>\n",
       "      <td>एतान्यनिगृहीतानि  व्यापादयितुमप्यलम्।         ...</td>\n",
       "      <td>Vidur Niti Slokas</td>\n",
       "    </tr>\n",
       "    <tr>\n",
       "      <th>2</th>\n",
       "      <td>यावत्स्वस्थो ह्यय देहः तावन्मृत्युश्च दूरतः। ...</td>\n",
       "      <td>Chanakya Slokas</td>\n",
       "    </tr>\n",
       "    <tr>\n",
       "      <th>3</th>\n",
       "      <td>ईश्वरस्य  स्मरणं प्रभाते उत्थाय अवश्यं  कर्तं...</td>\n",
       "      <td>sanskrit-slogan</td>\n",
       "    </tr>\n",
       "    <tr>\n",
       "      <th>4</th>\n",
       "      <td>लोकयात्रा भयं लज्जा दाक्षिण्यं त्यागशीलता।   ...</td>\n",
       "      <td>Chanakya Slokas</td>\n",
       "    </tr>\n",
       "  </tbody>\n",
       "</table>\n",
       "</div>"
      ],
      "text/plain": [
       "                                               Sloka              Class\n",
       "0  यस्मात् त्रस्यन्ति भूतानि मृगव्याधान्मृगा इव। ...  Vidur Niti Slokas\n",
       "1  एतान्यनिगृहीतानि  व्यापादयितुमप्यलम्।         ...  Vidur Niti Slokas\n",
       "2   यावत्स्वस्थो ह्यय देहः तावन्मृत्युश्च दूरतः। ...    Chanakya Slokas\n",
       "3   ईश्वरस्य  स्मरणं प्रभाते उत्थाय अवश्यं  कर्तं...    sanskrit-slogan\n",
       "4   लोकयात्रा भयं लज्जा दाक्षिण्यं त्यागशीलता।   ...    Chanakya Slokas"
      ]
     },
     "execution_count": 2,
     "metadata": {},
     "output_type": "execute_result"
    }
   ],
   "source": [
    "dt = pd.read_csv('dir/shlokas/train.csv')\n",
    "dt.head()"
   ]
  },
  {
   "cell_type": "code",
   "execution_count": 5,
   "id": "fef495e5-5fda-458e-95cb-912f4bc1868e",
   "metadata": {
    "tags": []
   },
   "outputs": [
    {
     "name": "stdout",
     "output_type": "stream",
     "text": [
      "(2242, 2)\n"
     ]
    },
    {
     "data": {
      "text/html": [
       "<div>\n",
       "<style scoped>\n",
       "    .dataframe tbody tr th:only-of-type {\n",
       "        vertical-align: middle;\n",
       "    }\n",
       "\n",
       "    .dataframe tbody tr th {\n",
       "        vertical-align: top;\n",
       "    }\n",
       "\n",
       "    .dataframe thead th {\n",
       "        text-align: right;\n",
       "    }\n",
       "</style>\n",
       "<table border=\"1\" class=\"dataframe\">\n",
       "  <thead>\n",
       "    <tr style=\"text-align: right;\">\n",
       "      <th></th>\n",
       "      <th>content</th>\n",
       "      <th>explanation</th>\n",
       "    </tr>\n",
       "  </thead>\n",
       "  <tbody>\n",
       "    <tr>\n",
       "      <th>0</th>\n",
       "      <td>प्रविश्य तु महारण्यं दण्डकारण्यमात्मवान्।ददर्श...</td>\n",
       "      <td>The invincible and selfpossessed Rama entered ...</td>\n",
       "    </tr>\n",
       "    <tr>\n",
       "      <th>1</th>\n",
       "      <td>कुशचीरपरिक्षिप्तं ब्राह्म्या लक्ष्म्या समावृतम...</td>\n",
       "      <td>They (the hermitages) were strewn all over wit...</td>\n",
       "    </tr>\n",
       "    <tr>\n",
       "      <th>2</th>\n",
       "      <td>शरण्यं सर्वभूतानां सुसम्मृष्टाजिरं सदा।मृगैर्ब...</td>\n",
       "      <td>The courtyards (of the hermitages) were cleans...</td>\n",
       "    </tr>\n",
       "    <tr>\n",
       "      <th>3</th>\n",
       "      <td>पूजितं च प्रनृत्तं च नित्यमप्सरसां गणैः।विशालै...</td>\n",
       "      <td>The hermitages looked glorified with dances b...</td>\n",
       "    </tr>\n",
       "    <tr>\n",
       "      <th>4</th>\n",
       "      <td>बलिहोमार्चितं पुण्यं ब्रह्मघोषनिनादितम्।पुष्पै...</td>\n",
       "      <td>The hermitages where various sacrificial offer...</td>\n",
       "    </tr>\n",
       "  </tbody>\n",
       "</table>\n",
       "</div>"
      ],
      "text/plain": [
       "                                             content  \\\n",
       "0  प्रविश्य तु महारण्यं दण्डकारण्यमात्मवान्।ददर्श...   \n",
       "1  कुशचीरपरिक्षिप्तं ब्राह्म्या लक्ष्म्या समावृतम...   \n",
       "2  शरण्यं सर्वभूतानां सुसम्मृष्टाजिरं सदा।मृगैर्ब...   \n",
       "3  पूजितं च प्रनृत्तं च नित्यमप्सरसां गणैः।विशालै...   \n",
       "4  बलिहोमार्चितं पुण्यं ब्रह्मघोषनिनादितम्।पुष्पै...   \n",
       "\n",
       "                                         explanation  \n",
       "0  The invincible and selfpossessed Rama entered ...  \n",
       "1  They (the hermitages) were strewn all over wit...  \n",
       "2  The courtyards (of the hermitages) were cleans...  \n",
       "3   The hermitages looked glorified with dances b...  \n",
       "4  The hermitages where various sacrificial offer...  "
      ]
     },
     "execution_count": 5,
     "metadata": {},
     "output_type": "execute_result"
    }
   ],
   "source": [
    "dt = pd.read_csv('dir/ramayana/aranyakanda.csv')\n",
    "print(dt.shape)\n",
    "dt.head()"
   ]
  },
  {
   "cell_type": "code",
   "execution_count": 4,
   "id": "986d46ed-b084-4bb7-b86b-4c6445b0bcc8",
   "metadata": {
    "tags": []
   },
   "outputs": [
    {
     "name": "stdout",
     "output_type": "stream",
     "text": [
      "(4057, 2)\n"
     ]
    },
    {
     "data": {
      "text/html": [
       "<div>\n",
       "<style scoped>\n",
       "    .dataframe tbody tr th:only-of-type {\n",
       "        vertical-align: middle;\n",
       "    }\n",
       "\n",
       "    .dataframe tbody tr th {\n",
       "        vertical-align: top;\n",
       "    }\n",
       "\n",
       "    .dataframe thead th {\n",
       "        text-align: right;\n",
       "    }\n",
       "</style>\n",
       "<table border=\"1\" class=\"dataframe\">\n",
       "  <thead>\n",
       "    <tr style=\"text-align: right;\">\n",
       "      <th></th>\n",
       "      <th>content</th>\n",
       "      <th>explanation</th>\n",
       "    </tr>\n",
       "  </thead>\n",
       "  <tbody>\n",
       "    <tr>\n",
       "      <th>0</th>\n",
       "      <td>गच्छता मातुलकुलं भरतेन तदाऽनघ।शत्रुघ्नो नित्यश...</td>\n",
       "      <td>Bharata set out for his maternal uncle's hous...</td>\n",
       "    </tr>\n",
       "    <tr>\n",
       "      <th>1</th>\n",
       "      <td>तत्र न्यवसद्भ्रात्रा सह सत्कारसत्कृतः।मातुलेना...</td>\n",
       "      <td>Treated with warm hospitality and fatherly aff...</td>\n",
       "    </tr>\n",
       "    <tr>\n",
       "      <th>2</th>\n",
       "      <td>तत्रापि निवसन्तौ तौ तर्प्यमाणौ च कामतः।भ्रातरौ...</td>\n",
       "      <td>Though both the heroic brothers stayed there s...</td>\n",
       "    </tr>\n",
       "    <tr>\n",
       "      <th>3</th>\n",
       "      <td>राजाऽपि तौ महातेजा स्सस्मार प्रोषितौ सुतौ।उभौ ...</td>\n",
       "      <td>The glorious king Dasaratha also remembered hi...</td>\n",
       "    </tr>\n",
       "    <tr>\n",
       "      <th>4</th>\n",
       "      <td>सर्व एव तु तस्येष्टा श्चत्वारः पुरुषर्षभाः।स्व...</td>\n",
       "      <td>Dasaratha, a bull among men, loved all his fou...</td>\n",
       "    </tr>\n",
       "  </tbody>\n",
       "</table>\n",
       "</div>"
      ],
      "text/plain": [
       "                                             content  \\\n",
       "0  गच्छता मातुलकुलं भरतेन तदाऽनघ।शत्रुघ्नो नित्यश...   \n",
       "1  तत्र न्यवसद्भ्रात्रा सह सत्कारसत्कृतः।मातुलेना...   \n",
       "2  तत्रापि निवसन्तौ तौ तर्प्यमाणौ च कामतः।भ्रातरौ...   \n",
       "3  राजाऽपि तौ महातेजा स्सस्मार प्रोषितौ सुतौ।उभौ ...   \n",
       "4  सर्व एव तु तस्येष्टा श्चत्वारः पुरुषर्षभाः।स्व...   \n",
       "\n",
       "                                         explanation  \n",
       "0   Bharata set out for his maternal uncle's hous...  \n",
       "1  Treated with warm hospitality and fatherly aff...  \n",
       "2  Though both the heroic brothers stayed there s...  \n",
       "3  The glorious king Dasaratha also remembered hi...  \n",
       "4  Dasaratha, a bull among men, loved all his fou...  "
      ]
     },
     "execution_count": 4,
     "metadata": {},
     "output_type": "execute_result"
    }
   ],
   "source": [
    "dt = pd.read_csv('dir/ramayana/ayodhyakand.csv')\n",
    "print(dt.shape)\n",
    "dt.head()"
   ]
  },
  {
   "cell_type": "code",
   "execution_count": 6,
   "id": "7ea38538-d9ab-40fe-940f-4b831fe42911",
   "metadata": {
    "tags": []
   },
   "outputs": [
    {
     "name": "stdout",
     "output_type": "stream",
     "text": [
      "(2045, 2)\n"
     ]
    },
    {
     "data": {
      "text/html": [
       "<div>\n",
       "<style scoped>\n",
       "    .dataframe tbody tr th:only-of-type {\n",
       "        vertical-align: middle;\n",
       "    }\n",
       "\n",
       "    .dataframe tbody tr th {\n",
       "        vertical-align: top;\n",
       "    }\n",
       "\n",
       "    .dataframe thead th {\n",
       "        text-align: right;\n",
       "    }\n",
       "</style>\n",
       "<table border=\"1\" class=\"dataframe\">\n",
       "  <thead>\n",
       "    <tr style=\"text-align: right;\">\n",
       "      <th></th>\n",
       "      <th>content</th>\n",
       "      <th>explanation</th>\n",
       "    </tr>\n",
       "  </thead>\n",
       "  <tbody>\n",
       "    <tr>\n",
       "      <th>0</th>\n",
       "      <td>तपस्स्वाध्यायनिरतं तपस्वी वाग्विदां वरम् ।नारद...</td>\n",
       "      <td>Ascetic Valmiki enquired of Narada, preeminent...</td>\n",
       "    </tr>\n",
       "    <tr>\n",
       "      <th>1</th>\n",
       "      <td>कोन्वस्मिन्साम्प्रतं लोके गुणवान्कश्च वीर्यवान...</td>\n",
       "      <td>\"Who in this world lives today endowed with ex...</td>\n",
       "    </tr>\n",
       "    <tr>\n",
       "      <th>2</th>\n",
       "      <td>चारित्रेण च को युक्तस्सर्वभूतेषु को हित: ।विद्...</td>\n",
       "      <td>Who is that one gifted with good conduct, give...</td>\n",
       "    </tr>\n",
       "    <tr>\n",
       "      <th>3</th>\n",
       "      <td>आत्मवान्को जितक्रोधो द्युतिमान्कोऽनसूयक: ।\\n\\n...</td>\n",
       "      <td>\\nWho (among men) is selfrestrained? Who has c...</td>\n",
       "    </tr>\n",
       "    <tr>\n",
       "      <th>4</th>\n",
       "      <td>एतदिच्छाम्यहं श्रोतुं परं कौतूहलं हि मे ।महर्ष...</td>\n",
       "      <td>O Maharshi, I intend to hear about such a man...</td>\n",
       "    </tr>\n",
       "  </tbody>\n",
       "</table>\n",
       "</div>"
      ],
      "text/plain": [
       "                                             content  \\\n",
       "0  तपस्स्वाध्यायनिरतं तपस्वी वाग्विदां वरम् ।नारद...   \n",
       "1  कोन्वस्मिन्साम्प्रतं लोके गुणवान्कश्च वीर्यवान...   \n",
       "2  चारित्रेण च को युक्तस्सर्वभूतेषु को हित: ।विद्...   \n",
       "3  आत्मवान्को जितक्रोधो द्युतिमान्कोऽनसूयक: ।\\n\\n...   \n",
       "4  एतदिच्छाम्यहं श्रोतुं परं कौतूहलं हि मे ।महर्ष...   \n",
       "\n",
       "                                         explanation  \n",
       "0  Ascetic Valmiki enquired of Narada, preeminent...  \n",
       "1  \"Who in this world lives today endowed with ex...  \n",
       "2  Who is that one gifted with good conduct, give...  \n",
       "3  \\nWho (among men) is selfrestrained? Who has c...  \n",
       "4   O Maharshi, I intend to hear about such a man...  "
      ]
     },
     "execution_count": 6,
     "metadata": {},
     "output_type": "execute_result"
    }
   ],
   "source": [
    "dt = pd.read_csv('dir/ramayana/balakanda.csv')\n",
    "print(dt.shape)\n",
    "dt.head()"
   ]
  },
  {
   "cell_type": "code",
   "execution_count": 7,
   "id": "0ac1a517-5100-4a33-ac44-41b185f2b56c",
   "metadata": {
    "tags": []
   },
   "outputs": [
    {
     "name": "stdout",
     "output_type": "stream",
     "text": [
      "(2235, 2)\n"
     ]
    },
    {
     "data": {
      "text/html": [
       "<div>\n",
       "<style scoped>\n",
       "    .dataframe tbody tr th:only-of-type {\n",
       "        vertical-align: middle;\n",
       "    }\n",
       "\n",
       "    .dataframe tbody tr th {\n",
       "        vertical-align: top;\n",
       "    }\n",
       "\n",
       "    .dataframe thead th {\n",
       "        text-align: right;\n",
       "    }\n",
       "</style>\n",
       "<table border=\"1\" class=\"dataframe\">\n",
       "  <thead>\n",
       "    <tr style=\"text-align: right;\">\n",
       "      <th></th>\n",
       "      <th>content</th>\n",
       "      <th>explanation</th>\n",
       "    </tr>\n",
       "  </thead>\n",
       "  <tbody>\n",
       "    <tr>\n",
       "      <th>0</th>\n",
       "      <td>स तां पुष्करिणीं गत्वा पद्मोत्पलझषाकुलाम्। राम...</td>\n",
       "      <td>Arriving with Laksmana at the lake filled wit...</td>\n",
       "    </tr>\n",
       "    <tr>\n",
       "      <th>1</th>\n",
       "      <td>तस्य दृष्ट्वैव तां हर्षादिन्द्रियाणि चकम्पिरे।...</td>\n",
       "      <td>He was glad to see it but sad at the thought o...</td>\n",
       "    </tr>\n",
       "    <tr>\n",
       "      <th>2</th>\n",
       "      <td>सौमित्रे शोभते पम्पा वैदूर्यविमलोदका।फुल्लपद्म...</td>\n",
       "      <td>'O Saumitri Pampa looks beautiful with its wa...</td>\n",
       "    </tr>\n",
       "    <tr>\n",
       "      <th>3</th>\n",
       "      <td>सौमित्रे पश्य पम्पायाः काननं शुभदर्शनम्।यत्र र...</td>\n",
       "      <td>'O Saumitri look at the pleasant forest around...</td>\n",
       "    </tr>\n",
       "    <tr>\n",
       "      <th>4</th>\n",
       "      <td>मां तु शोकाभिसन्तप्तं माधवः पीडयन्ति वै।भरतस्य...</td>\n",
       "      <td>Already saddened due to the abduction of Sita ...</td>\n",
       "    </tr>\n",
       "  </tbody>\n",
       "</table>\n",
       "</div>"
      ],
      "text/plain": [
       "                                             content  \\\n",
       "0  स तां पुष्करिणीं गत्वा पद्मोत्पलझषाकुलाम्। राम...   \n",
       "1  तस्य दृष्ट्वैव तां हर्षादिन्द्रियाणि चकम्पिरे।...   \n",
       "2  सौमित्रे शोभते पम्पा वैदूर्यविमलोदका।फुल्लपद्म...   \n",
       "3  सौमित्रे पश्य पम्पायाः काननं शुभदर्शनम्।यत्र र...   \n",
       "4  मां तु शोकाभिसन्तप्तं माधवः पीडयन्ति वै।भरतस्य...   \n",
       "\n",
       "                                         explanation  \n",
       "0   Arriving with Laksmana at the lake filled wit...  \n",
       "1  He was glad to see it but sad at the thought o...  \n",
       "2   'O Saumitri Pampa looks beautiful with its wa...  \n",
       "3  'O Saumitri look at the pleasant forest around...  \n",
       "4  Already saddened due to the abduction of Sita ...  "
      ]
     },
     "execution_count": 7,
     "metadata": {},
     "output_type": "execute_result"
    }
   ],
   "source": [
    "dt = pd.read_csv('dir/ramayana/kishkindakanda.csv')\n",
    "print(dt.shape)\n",
    "dt.head()"
   ]
  },
  {
   "cell_type": "code",
   "execution_count": 8,
   "id": "ad2ccfee-41ff-4fd4-91f6-b3ddfe1f8677",
   "metadata": {
    "tags": []
   },
   "outputs": [
    {
     "name": "stdout",
     "output_type": "stream",
     "text": [
      "(2535, 2)\n"
     ]
    },
    {
     "data": {
      "text/html": [
       "<div>\n",
       "<style scoped>\n",
       "    .dataframe tbody tr th:only-of-type {\n",
       "        vertical-align: middle;\n",
       "    }\n",
       "\n",
       "    .dataframe tbody tr th {\n",
       "        vertical-align: top;\n",
       "    }\n",
       "\n",
       "    .dataframe thead th {\n",
       "        text-align: right;\n",
       "    }\n",
       "</style>\n",
       "<table border=\"1\" class=\"dataframe\">\n",
       "  <thead>\n",
       "    <tr style=\"text-align: right;\">\n",
       "      <th></th>\n",
       "      <th>content</th>\n",
       "      <th>explanation</th>\n",
       "    </tr>\n",
       "  </thead>\n",
       "  <tbody>\n",
       "    <tr>\n",
       "      <th>0</th>\n",
       "      <td>ततो रावणनीतायाः सीतायाः शत्रुकर्शनः।इयेष पदमन्...</td>\n",
       "      <td>Hanuman, crusher of enemies resolved to find t...</td>\n",
       "    </tr>\n",
       "    <tr>\n",
       "      <th>1</th>\n",
       "      <td>दुष्करं निष्प्रतिद्वन्द्वं चिकीर्षन् कर्म वानर...</td>\n",
       "      <td>Hanuman who raised his head and neck, intendin...</td>\n",
       "    </tr>\n",
       "    <tr>\n",
       "      <th>2</th>\n",
       "      <td>अथ वैडूर्यवर्णेषु शाद्वलेषु महाबलः।धीरः सलिलकल...</td>\n",
       "      <td>Tawnyhued Hanuman, gifted with extraordinary s...</td>\n",
       "    </tr>\n",
       "    <tr>\n",
       "      <th>3</th>\n",
       "      <td>द्विजान् वित्रासयन् धीमानुरसा पादपान् हरन्।मृग...</td>\n",
       "      <td>Wise Hanuman went about like a lion scaring aw...</td>\n",
       "    </tr>\n",
       "    <tr>\n",
       "      <th>4</th>\n",
       "      <td>नीललोहितमांजिष्ठपत्रवर्णैः सितासितैः।स्वभावविह...</td>\n",
       "      <td>The mountain was as though decorated with mine...</td>\n",
       "    </tr>\n",
       "  </tbody>\n",
       "</table>\n",
       "</div>"
      ],
      "text/plain": [
       "                                             content  \\\n",
       "0  ततो रावणनीतायाः सीतायाः शत्रुकर्शनः।इयेष पदमन्...   \n",
       "1  दुष्करं निष्प्रतिद्वन्द्वं चिकीर्षन् कर्म वानर...   \n",
       "2  अथ वैडूर्यवर्णेषु शाद्वलेषु महाबलः।धीरः सलिलकल...   \n",
       "3  द्विजान् वित्रासयन् धीमानुरसा पादपान् हरन्।मृग...   \n",
       "4  नीललोहितमांजिष्ठपत्रवर्णैः सितासितैः।स्वभावविह...   \n",
       "\n",
       "                                         explanation  \n",
       "0  Hanuman, crusher of enemies resolved to find t...  \n",
       "1  Hanuman who raised his head and neck, intendin...  \n",
       "2  Tawnyhued Hanuman, gifted with extraordinary s...  \n",
       "3  Wise Hanuman went about like a lion scaring aw...  \n",
       "4  The mountain was as though decorated with mine...  "
      ]
     },
     "execution_count": 8,
     "metadata": {},
     "output_type": "execute_result"
    }
   ],
   "source": [
    "dt = pd.read_csv('dir/ramayana/sundarakanda.csv')\n",
    "print(dt.shape)\n",
    "dt.head()"
   ]
  },
  {
   "cell_type": "code",
   "execution_count": null,
   "id": "50f6c01d-ea18-4f87-9a77-28b343d12fcf",
   "metadata": {},
   "outputs": [],
   "source": []
  }
 ],
 "metadata": {
  "kernelspec": {
   "display_name": "Python 3 (ipykernel)",
   "language": "python",
   "name": "python3"
  },
  "language_info": {
   "codemirror_mode": {
    "name": "ipython",
    "version": 3
   },
   "file_extension": ".py",
   "mimetype": "text/x-python",
   "name": "python",
   "nbconvert_exporter": "python",
   "pygments_lexer": "ipython3",
   "version": "3.10.12"
  }
 },
 "nbformat": 4,
 "nbformat_minor": 5
}
